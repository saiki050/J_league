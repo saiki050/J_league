{
  "nbformat": 4,
  "nbformat_minor": 0,
  "metadata": {
    "colab": {
      "provenance": [],
      "authorship_tag": "ABX9TyOhhCrIZ2ceo15PGzerY3rr",
      "include_colab_link": true
    },
    "kernelspec": {
      "name": "python3",
      "display_name": "Python 3"
    },
    "language_info": {
      "name": "python"
    }
  },
  "cells": [
    {
      "cell_type": "markdown",
      "metadata": {
        "id": "view-in-github",
        "colab_type": "text"
      },
      "source": [
        "<a href=\"https://colab.research.google.com/github/saiki050/J_league/blob/main/%E3%83%95%E3%82%A1%E3%82%A4%E3%83%AB%E6%93%8D%E4%BD%9C.ipynb\" target=\"_parent\"><img src=\"https://colab.research.google.com/assets/colab-badge.svg\" alt=\"Open In Colab\"/></a>"
      ]
    },
    {
      "cell_type": "code",
      "execution_count": null,
      "metadata": {
        "colab": {
          "base_uri": "https://localhost:8080/"
        },
        "id": "6xwC6F50aIOc",
        "outputId": "5450b0e8-89b3-493f-9829-6a4717fa182b"
      },
      "outputs": [
        {
          "output_type": "stream",
          "name": "stdout",
          "text": [
            "Mounted at /content/drive\n"
          ]
        }
      ],
      "source": [
        "from google.colab import drive\n",
        "drive.mount('/content/drive')"
      ]
    },
    {
      "cell_type": "code",
      "source": [
        "import os\n",
        "import subprocess"
      ],
      "metadata": {
        "id": "xdkQafsNnbTm"
      },
      "execution_count": null,
      "outputs": []
    },
    {
      "cell_type": "code",
      "source": [
        "check_path = 'content/J_league'\n",
        "\n",
        "if os.path.exists(check_path):\n",
        "  print(\"存在します\")\n",
        "else:\n",
        "  subprocess.run([\"git\", \"clone\", \"https://github.com/saiki050/J_league.git\"])"
      ],
      "metadata": {
        "id": "nATOG58fcdjY"
      },
      "execution_count": null,
      "outputs": []
    },
    {
      "cell_type": "code",
      "source": [
        "path = '/content/J_league'\n",
        "\n",
        "#作業ディレクトリをpathに移動する\n",
        "os.chdir(path)\n",
        "\n",
        "#作業ディレクトリ直下のファイルを確認\n",
        "!ls"
      ],
      "metadata": {
        "colab": {
          "base_uri": "https://localhost:8080/"
        },
        "id": "22wTTUw-fDrj",
        "outputId": "c68ffa7a-bfc8-4f77-8606-ab49c46529a6"
      },
      "execution_count": null,
      "outputs": [
        {
          "output_type": "stream",
          "name": "stdout",
          "text": [
            "baseline.ipynb\n"
          ]
        }
      ]
    },
    {
      "cell_type": "code",
      "source": [
        "#作業ファイル内のファイルを実行\n",
        "#!python3 main.py"
      ],
      "metadata": {
        "id": "QVEx6bzrfTqC"
      },
      "execution_count": null,
      "outputs": []
    },
    {
      "cell_type": "code",
      "source": [
        "!git config --global user.email \"chaigucci2@gmail.com\"\n",
        "!git config --global user.name \"saiki050\""
      ],
      "metadata": {
        "id": "kez00JECfxI4"
      },
      "execution_count": null,
      "outputs": []
    },
    {
      "cell_type": "code",
      "source": [
        "!git add .\n",
        "!git commit -m \"初回コミット\""
      ],
      "metadata": {
        "colab": {
          "base_uri": "https://localhost:8080/"
        },
        "id": "d7R35zxnf_Z1",
        "outputId": "e2a62fcf-386f-4de4-c649-f56e0e442db7"
      },
      "execution_count": null,
      "outputs": [
        {
          "output_type": "stream",
          "name": "stdout",
          "text": [
            "On branch main\n",
            "\n",
            "Initial commit\n",
            "\n",
            "nothing to commit (create/copy files and use \"git add\" to track)\n"
          ]
        }
      ]
    }
  ]
}